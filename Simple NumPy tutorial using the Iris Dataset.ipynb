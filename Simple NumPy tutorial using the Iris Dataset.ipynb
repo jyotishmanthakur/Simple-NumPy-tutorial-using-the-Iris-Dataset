{
 "cells": [
  {
   "cell_type": "markdown",
   "id": "286ae907",
   "metadata": {},
   "source": [
    "## Simple NumPy tutorial using the Iris Dataset"
   ]
  },
  {
   "cell_type": "markdown",
   "id": "66b2318c",
   "metadata": {},
   "source": [
    "Atfirst import the required libraries/packages"
   ]
  },
  {
   "cell_type": "code",
   "execution_count": 1,
   "id": "e96ca08c",
   "metadata": {},
   "outputs": [],
   "source": [
    "import numpy as np\n",
    "import pandas as pd"
   ]
  },
  {
   "cell_type": "markdown",
   "id": "9011f7d4",
   "metadata": {},
   "source": [
    "Lets, load/read through the dataset using good old pandas and sklearn"
   ]
  },
  {
   "cell_type": "markdown",
   "id": "03a16d4d",
   "metadata": {},
   "source": [
    "I am using Pandas to load the dataset but numpy can also used. There are many options like <b>numpy.loadtxt</b> or <b>numpy.genfromtxt</b>"
   ]
  },
  {
   "cell_type": "code",
   "execution_count": 2,
   "id": "e5c74f78",
   "metadata": {},
   "outputs": [
    {
     "data": {
      "text/html": [
       "<div>\n",
       "<style scoped>\n",
       "    .dataframe tbody tr th:only-of-type {\n",
       "        vertical-align: middle;\n",
       "    }\n",
       "\n",
       "    .dataframe tbody tr th {\n",
       "        vertical-align: top;\n",
       "    }\n",
       "\n",
       "    .dataframe thead th {\n",
       "        text-align: right;\n",
       "    }\n",
       "</style>\n",
       "<table border=\"1\" class=\"dataframe\">\n",
       "  <thead>\n",
       "    <tr style=\"text-align: right;\">\n",
       "      <th></th>\n",
       "      <th>sepal length (cm)</th>\n",
       "      <th>sepal width (cm)</th>\n",
       "      <th>petal length (cm)</th>\n",
       "      <th>petal width (cm)</th>\n",
       "      <th>target</th>\n",
       "    </tr>\n",
       "  </thead>\n",
       "  <tbody>\n",
       "    <tr>\n",
       "      <th>0</th>\n",
       "      <td>5.1</td>\n",
       "      <td>3.5</td>\n",
       "      <td>1.4</td>\n",
       "      <td>0.2</td>\n",
       "      <td>0</td>\n",
       "    </tr>\n",
       "    <tr>\n",
       "      <th>1</th>\n",
       "      <td>4.9</td>\n",
       "      <td>3.0</td>\n",
       "      <td>1.4</td>\n",
       "      <td>0.2</td>\n",
       "      <td>0</td>\n",
       "    </tr>\n",
       "    <tr>\n",
       "      <th>2</th>\n",
       "      <td>4.7</td>\n",
       "      <td>3.2</td>\n",
       "      <td>1.3</td>\n",
       "      <td>0.2</td>\n",
       "      <td>0</td>\n",
       "    </tr>\n",
       "    <tr>\n",
       "      <th>3</th>\n",
       "      <td>4.6</td>\n",
       "      <td>3.1</td>\n",
       "      <td>1.5</td>\n",
       "      <td>0.2</td>\n",
       "      <td>0</td>\n",
       "    </tr>\n",
       "    <tr>\n",
       "      <th>4</th>\n",
       "      <td>5.0</td>\n",
       "      <td>3.6</td>\n",
       "      <td>1.4</td>\n",
       "      <td>0.2</td>\n",
       "      <td>0</td>\n",
       "    </tr>\n",
       "  </tbody>\n",
       "</table>\n",
       "</div>"
      ],
      "text/plain": [
       "   sepal length (cm)  sepal width (cm)  petal length (cm)  petal width (cm)  \\\n",
       "0                5.1               3.5                1.4               0.2   \n",
       "1                4.9               3.0                1.4               0.2   \n",
       "2                4.7               3.2                1.3               0.2   \n",
       "3                4.6               3.1                1.5               0.2   \n",
       "4                5.0               3.6                1.4               0.2   \n",
       "\n",
       "   target  \n",
       "0       0  \n",
       "1       0  \n",
       "2       0  \n",
       "3       0  \n",
       "4       0  "
      ]
     },
     "execution_count": 2,
     "metadata": {},
     "output_type": "execute_result"
    }
   ],
   "source": [
    "import numpy as np\n",
    "import pandas as pd\n",
    "from sklearn.datasets import load_iris\n",
    "\n",
    "# Load the Iris dataset\n",
    "iris = load_iris()\n",
    "df = pd.DataFrame(data=iris.data, columns=iris.feature_names)\n",
    "df['target'] = iris.target\n",
    "df.head(5)"
   ]
  },
  {
   "cell_type": "code",
   "execution_count": 3,
   "id": "be2f101e",
   "metadata": {},
   "outputs": [
    {
     "data": {
      "text/plain": [
       "0    50\n",
       "1    50\n",
       "2    50\n",
       "Name: target, dtype: int64"
      ]
     },
     "execution_count": 3,
     "metadata": {},
     "output_type": "execute_result"
    }
   ],
   "source": [
    "df['target'].value_counts()"
   ]
  },
  {
   "cell_type": "markdown",
   "id": "7e580372",
   "metadata": {},
   "source": [
    "Lets create 1D numpy arrays now, then we will move to the data"
   ]
  },
  {
   "cell_type": "code",
   "execution_count": 4,
   "id": "52beda1d",
   "metadata": {},
   "outputs": [
    {
     "data": {
      "text/plain": [
       "array([1, 2, 3, 4])"
      ]
     },
     "execution_count": 4,
     "metadata": {},
     "output_type": "execute_result"
    }
   ],
   "source": [
    "a1=np.array([1,2,3,4])\n",
    "a1"
   ]
  },
  {
   "cell_type": "code",
   "execution_count": 5,
   "id": "0535d8e6",
   "metadata": {},
   "outputs": [
    {
     "data": {
      "text/plain": [
       "array([1, 2, 3, 4])"
      ]
     },
     "execution_count": 5,
     "metadata": {},
     "output_type": "execute_result"
    }
   ],
   "source": [
    "a2=np.arange(1,5)\n",
    "a2"
   ]
  },
  {
   "cell_type": "code",
   "execution_count": 6,
   "id": "51a27560",
   "metadata": {},
   "outputs": [
    {
     "data": {
      "text/plain": [
       "array([0, 2, 4, 6, 8])"
      ]
     },
     "execution_count": 6,
     "metadata": {},
     "output_type": "execute_result"
    }
   ],
   "source": [
    "a3=np.arange(0,10,2)\n",
    "a3"
   ]
  },
  {
   "cell_type": "code",
   "execution_count": 7,
   "id": "b747a67e",
   "metadata": {},
   "outputs": [
    {
     "data": {
      "text/plain": [
       "array([ 0,  2,  5,  7, 10])"
      ]
     },
     "execution_count": 7,
     "metadata": {},
     "output_type": "execute_result"
    }
   ],
   "source": [
    "a4=np.linspace(0,10,5,dtype=int) \n",
    "a4"
   ]
  },
  {
   "cell_type": "markdown",
   "id": "e4277717",
   "metadata": {},
   "source": [
    "There is another function called np.logspace, you can check that too\n",
    "\n",
    "The difference between the two is that <b>np.linspace</b> returns numbers spaced evenly on a linear scale, while <b>np.logspace</b> returns numbers spaced evenly on a logarithmic scale"
   ]
  },
  {
   "cell_type": "code",
   "execution_count": 8,
   "id": "d6458e23",
   "metadata": {},
   "outputs": [
    {
     "data": {
      "text/plain": [
       "array([ 0. ,  2.5,  5. ,  7.5, 10. ])"
      ]
     },
     "execution_count": 8,
     "metadata": {},
     "output_type": "execute_result"
    }
   ],
   "source": [
    "a4=np.linspace(0,10,5,dtype=float)\n",
    "a4"
   ]
  },
  {
   "cell_type": "markdown",
   "id": "058dc6d7",
   "metadata": {},
   "source": [
    "These are some of the basic ways to create numpy arrays. Please use them, if you find some other easy ways, do let me know!!"
   ]
  },
  {
   "cell_type": "code",
   "execution_count": 9,
   "id": "c6a4b0cf",
   "metadata": {},
   "outputs": [
    {
     "data": {
      "text/plain": [
       "array([0., 0., 0.])"
      ]
     },
     "execution_count": 9,
     "metadata": {},
     "output_type": "execute_result"
    }
   ],
   "source": [
    "a5=np.zeros(3)\n",
    "a5"
   ]
  },
  {
   "cell_type": "markdown",
   "id": "706db00f",
   "metadata": {},
   "source": [
    "Lets create some 2D arrays in Numpy"
   ]
  },
  {
   "cell_type": "code",
   "execution_count": 10,
   "id": "2d3ca9d0",
   "metadata": {},
   "outputs": [
    {
     "data": {
      "text/plain": [
       "array([[1, 2, 3, 4],\n",
       "       [5, 6, 7, 8]])"
      ]
     },
     "execution_count": 10,
     "metadata": {},
     "output_type": "execute_result"
    }
   ],
   "source": [
    "arr1=np.array([[1,2,3,4],[5,6,7,8]])\n",
    "arr1"
   ]
  },
  {
   "cell_type": "code",
   "execution_count": 11,
   "id": "a243690c",
   "metadata": {},
   "outputs": [
    {
     "data": {
      "text/plain": [
       "array([[ 2,  4,  6],\n",
       "       [ 8, 10, 12],\n",
       "       [14, 16, 18]])"
      ]
     },
     "execution_count": 11,
     "metadata": {},
     "output_type": "execute_result"
    }
   ],
   "source": [
    "arr2=np.arange(2,20,2).reshape(3,3)\n",
    "arr2"
   ]
  },
  {
   "cell_type": "code",
   "execution_count": 12,
   "id": "e7edff6f",
   "metadata": {},
   "outputs": [
    {
     "data": {
      "text/plain": [
       "array([[  0,  11,  22,  33,  44],\n",
       "       [ 55,  66,  77,  88, 100]])"
      ]
     },
     "execution_count": 12,
     "metadata": {},
     "output_type": "execute_result"
    }
   ],
   "source": [
    "arr3=np.linspace(0,100,10,dtype=int).reshape(2,5)\n",
    "arr3"
   ]
  },
  {
   "cell_type": "code",
   "execution_count": 13,
   "id": "bb5279bc",
   "metadata": {},
   "outputs": [
    {
     "data": {
      "text/plain": [
       "array([[0., 0., 0.],\n",
       "       [0., 0., 0.]])"
      ]
     },
     "execution_count": 13,
     "metadata": {},
     "output_type": "execute_result"
    }
   ],
   "source": [
    "arr4=np.zeros((2,3))\n",
    "arr4"
   ]
  },
  {
   "cell_type": "markdown",
   "id": "93d05ef7",
   "metadata": {},
   "source": [
    "Similarly we can create high dimensional numpy arrays"
   ]
  },
  {
   "cell_type": "code",
   "execution_count": 14,
   "id": "e7676eea",
   "metadata": {},
   "outputs": [
    {
     "data": {
      "text/plain": [
       "array([[[ 0,  1,  2],\n",
       "        [ 3,  4,  5],\n",
       "        [ 6,  7,  8]],\n",
       "\n",
       "       [[ 9, 10, 11],\n",
       "        [12, 13, 14],\n",
       "        [15, 16, 17]],\n",
       "\n",
       "       [[18, 19, 20],\n",
       "        [21, 22, 23],\n",
       "        [24, 25, 26]]])"
      ]
     },
     "execution_count": 14,
     "metadata": {},
     "output_type": "execute_result"
    }
   ],
   "source": [
    "arr3d=np.arange(0,27).reshape(3,3,3)\n",
    "arr3d"
   ]
  },
  {
   "cell_type": "code",
   "execution_count": 15,
   "id": "f957212b",
   "metadata": {},
   "outputs": [
    {
     "data": {
      "text/plain": [
       "array([[[0., 0., 0.],\n",
       "        [0., 0., 0.],\n",
       "        [0., 0., 0.]],\n",
       "\n",
       "       [[0., 0., 0.],\n",
       "        [0., 0., 0.],\n",
       "        [0., 0., 0.]],\n",
       "\n",
       "       [[0., 0., 0.],\n",
       "        [0., 0., 0.],\n",
       "        [0., 0., 0.]]])"
      ]
     },
     "execution_count": 15,
     "metadata": {},
     "output_type": "execute_result"
    }
   ],
   "source": [
    "arr3dzeros=np.zeros((3,3,3))\n",
    "arr3dzeros"
   ]
  },
  {
   "cell_type": "markdown",
   "id": "9abcd7c6",
   "metadata": {},
   "source": [
    "Now, lets check some of the attributes of numpy array"
   ]
  },
  {
   "cell_type": "code",
   "execution_count": 16,
   "id": "d60391a1",
   "metadata": {},
   "outputs": [
    {
     "data": {
      "text/plain": [
       "2"
      ]
     },
     "execution_count": 16,
     "metadata": {},
     "output_type": "execute_result"
    }
   ],
   "source": [
    "arr3.ndim # dimension of the array"
   ]
  },
  {
   "cell_type": "code",
   "execution_count": 17,
   "id": "08989886",
   "metadata": {},
   "outputs": [
    {
     "data": {
      "text/plain": [
       "(2, 5)"
      ]
     },
     "execution_count": 17,
     "metadata": {},
     "output_type": "execute_result"
    }
   ],
   "source": [
    "arr3.shape # shape of the array "
   ]
  },
  {
   "cell_type": "code",
   "execution_count": 18,
   "id": "4e7b9d4a",
   "metadata": {},
   "outputs": [
    {
     "data": {
      "text/plain": [
       "(3, 3, 3)"
      ]
     },
     "execution_count": 18,
     "metadata": {},
     "output_type": "execute_result"
    }
   ],
   "source": [
    "arr3d.shape"
   ]
  },
  {
   "cell_type": "code",
   "execution_count": 19,
   "id": "f37a99b7",
   "metadata": {},
   "outputs": [
    {
     "data": {
      "text/plain": [
       "dtype('int32')"
      ]
     },
     "execution_count": 19,
     "metadata": {},
     "output_type": "execute_result"
    }
   ],
   "source": [
    "arr3.dtype"
   ]
  },
  {
   "cell_type": "code",
   "execution_count": 20,
   "id": "aa84b50e",
   "metadata": {},
   "outputs": [
    {
     "data": {
      "text/plain": [
       "numpy.ndarray"
      ]
     },
     "execution_count": 20,
     "metadata": {},
     "output_type": "execute_result"
    }
   ],
   "source": [
    "type(arr3)"
   ]
  },
  {
   "cell_type": "markdown",
   "id": "59155f6d",
   "metadata": {},
   "source": [
    "These are some common attributes."
   ]
  },
  {
   "cell_type": "markdown",
   "id": "35fb7a53",
   "metadata": {},
   "source": [
    "We can also generate random element into a numpy array"
   ]
  },
  {
   "cell_type": "code",
   "execution_count": 21,
   "id": "ffde37f0",
   "metadata": {},
   "outputs": [
    {
     "data": {
      "text/plain": [
       "array([[0.35919725, 0.33408911],\n",
       "       [0.14425616, 0.39319744],\n",
       "       [0.83573219, 0.37018067]])"
      ]
     },
     "execution_count": 21,
     "metadata": {},
     "output_type": "execute_result"
    }
   ],
   "source": [
    "array=np.random.rand(3,2)\n",
    "array"
   ]
  },
  {
   "cell_type": "code",
   "execution_count": 22,
   "id": "01bfe35a",
   "metadata": {},
   "outputs": [
    {
     "data": {
      "text/plain": [
       "array([[1, 1, 6],\n",
       "       [3, 6, 3],\n",
       "       [6, 1, 1]])"
      ]
     },
     "execution_count": 22,
     "metadata": {},
     "output_type": "execute_result"
    }
   ],
   "source": [
    "array2=np.random.randint(0,10,size=(3,3))\n",
    "array2"
   ]
  },
  {
   "cell_type": "markdown",
   "id": "fd87f116",
   "metadata": {},
   "source": [
    "There are a lot of functions in numpy.random like <b>numpy.random.normal, numpy.random.lognormal, numpy.random.poisson</b> etc. <br>\n",
    "<b>numpy.random.randint</b> generates integers from “discrete uniform” distribution"
   ]
  },
  {
   "cell_type": "markdown",
   "id": "9600097f",
   "metadata": {},
   "source": [
    "Now, lets implement these into our original dataset"
   ]
  },
  {
   "cell_type": "code",
   "execution_count": 23,
   "id": "8608e2c5",
   "metadata": {},
   "outputs": [
    {
     "data": {
      "text/plain": [
       "array([5.1, 4.9, 4.7, 4.6, 5. ])"
      ]
     },
     "execution_count": 23,
     "metadata": {},
     "output_type": "execute_result"
    }
   ],
   "source": [
    "sepal_length=np.array(df['sepal length (cm)'])\n",
    "sepal_length[:5]"
   ]
  },
  {
   "cell_type": "code",
   "execution_count": 24,
   "id": "2054cce3",
   "metadata": {
    "scrolled": true
   },
   "outputs": [
    {
     "data": {
      "text/plain": [
       "array([[0. , 5.1],\n",
       "       [0. , 4.9],\n",
       "       [0. , 4.7],\n",
       "       [0. , 4.6],\n",
       "       [0. , 5. ]])"
      ]
     },
     "execution_count": 24,
     "metadata": {},
     "output_type": "execute_result"
    }
   ],
   "source": [
    "sepal_lengthTarget=np.array([df['target'],df['sepal length (cm)']])\n",
    "sepal_lengthTarget=sepal_lengthTarget.T      # transpose\n",
    "sepal_lengthTarget[:5]"
   ]
  },
  {
   "cell_type": "markdown",
   "id": "9143f080",
   "metadata": {},
   "source": [
    "Transposing otherwise we have two different lists inside the list, we want to keep it like the way it is in the dataset"
   ]
  },
  {
   "cell_type": "code",
   "execution_count": 25,
   "id": "921c4c47",
   "metadata": {},
   "outputs": [
    {
     "data": {
      "text/plain": [
       "(150, 2)"
      ]
     },
     "execution_count": 25,
     "metadata": {},
     "output_type": "execute_result"
    }
   ],
   "source": [
    "sepal_lengthTarget.shape"
   ]
  },
  {
   "cell_type": "code",
   "execution_count": 26,
   "id": "a09907fd",
   "metadata": {},
   "outputs": [
    {
     "data": {
      "text/plain": [
       "dtype('float64')"
      ]
     },
     "execution_count": 26,
     "metadata": {},
     "output_type": "execute_result"
    }
   ],
   "source": [
    "sepal_lengthTarget.dtype"
   ]
  },
  {
   "cell_type": "markdown",
   "id": "f72d0e69",
   "metadata": {},
   "source": [
    "The datatype is float"
   ]
  },
  {
   "cell_type": "code",
   "execution_count": 27,
   "id": "19ce9be7",
   "metadata": {},
   "outputs": [
    {
     "data": {
      "text/plain": [
       "array([[5.1, 3.5, 1.4, 0.2, 0. ],\n",
       "       [4.9, 3. , 1.4, 0.2, 0. ],\n",
       "       [4.7, 3.2, 1.3, 0.2, 0. ],\n",
       "       [4.6, 3.1, 1.5, 0.2, 0. ],\n",
       "       [5. , 3.6, 1.4, 0.2, 0. ]])"
      ]
     },
     "execution_count": 27,
     "metadata": {},
     "output_type": "execute_result"
    }
   ],
   "source": [
    "np_df=df.values\n",
    "np_df[:5]"
   ]
  },
  {
   "cell_type": "markdown",
   "id": "68c14d76",
   "metadata": {},
   "source": [
    "This can be used if we want to convert the entire pandas dataframe into a numpy array. Each row is a separate list in our 2D list."
   ]
  },
  {
   "cell_type": "code",
   "execution_count": 28,
   "id": "b770a2a1",
   "metadata": {},
   "outputs": [
    {
     "data": {
      "text/plain": [
       "2"
      ]
     },
     "execution_count": 28,
     "metadata": {},
     "output_type": "execute_result"
    }
   ],
   "source": [
    "np_df.ndim"
   ]
  },
  {
   "cell_type": "markdown",
   "id": "ec51333e",
   "metadata": {},
   "source": [
    "Lets try accessing elements from our numpy arrays"
   ]
  },
  {
   "cell_type": "code",
   "execution_count": 29,
   "id": "739f8bce",
   "metadata": {},
   "outputs": [
    {
     "data": {
      "text/plain": [
       "4.6"
      ]
     },
     "execution_count": 29,
     "metadata": {},
     "output_type": "execute_result"
    }
   ],
   "source": [
    "sepal_length[3]"
   ]
  },
  {
   "cell_type": "code",
   "execution_count": 30,
   "id": "6bbc3957",
   "metadata": {},
   "outputs": [
    {
     "data": {
      "text/plain": [
       "0.0"
      ]
     },
     "execution_count": 30,
     "metadata": {},
     "output_type": "execute_result"
    }
   ],
   "source": [
    "sepal_lengthTarget[1,0] "
   ]
  },
  {
   "cell_type": "markdown",
   "id": "04441abf",
   "metadata": {},
   "source": [
    "Did you see the difference, in <b>sepal_length[3]</b> is same as a Python list but <b>sepal_lengthTarget[1,0] </b> numpy arrays are bit easier when it comes to indexing. If <b>sepal_lengthTarget</b> were to be a python list of lists we would have to use <b>sepal_lengthTarget[1][0]</b> which becomes complicated when have n-dimensional array, so <b>array[i,j,k...]</b> makes life more easier"
   ]
  },
  {
   "cell_type": "markdown",
   "id": "7279d39d",
   "metadata": {},
   "source": [
    "<b>Slicing</b>"
   ]
  },
  {
   "cell_type": "markdown",
   "id": "886add19",
   "metadata": {},
   "source": [
    "Slicing extract portions of the array based on specific indexes. It always returns a view and is not a copy"
   ]
  },
  {
   "cell_type": "code",
   "execution_count": 31,
   "id": "0eb219cf",
   "metadata": {},
   "outputs": [
    {
     "data": {
      "text/plain": [
       "array([4.6, 5. , 5.4, 4.6, 5. , 4.4, 4.9, 5.4, 4.8, 4.8, 4.3, 5.8, 5.7,\n",
       "       5.4, 5.1, 5.7, 5.1])"
      ]
     },
     "execution_count": 31,
     "metadata": {},
     "output_type": "execute_result"
    }
   ],
   "source": [
    "sepal_length[3:20]"
   ]
  },
  {
   "cell_type": "code",
   "execution_count": 32,
   "id": "69691fa3",
   "metadata": {},
   "outputs": [
    {
     "data": {
      "text/plain": [
       "array([6.3, 6.5, 6.2])"
      ]
     },
     "execution_count": 32,
     "metadata": {},
     "output_type": "execute_result"
    }
   ],
   "source": [
    "sepal_length[-4:-1]"
   ]
  },
  {
   "cell_type": "code",
   "execution_count": 33,
   "id": "90ddf719",
   "metadata": {},
   "outputs": [
    {
     "data": {
      "text/plain": [
       "array([], dtype=float64)"
      ]
     },
     "execution_count": 33,
     "metadata": {},
     "output_type": "execute_result"
    }
   ],
   "source": [
    "sepal_length[-1:-3]"
   ]
  },
  {
   "cell_type": "markdown",
   "id": "cb7796f7",
   "metadata": {},
   "source": [
    "Slicing works from left to right, so direction is important else we will get an empty array in return."
   ]
  },
  {
   "cell_type": "code",
   "execution_count": 34,
   "id": "20f19ef0",
   "metadata": {},
   "outputs": [
    {
     "data": {
      "text/plain": [
       "array([[0.],\n",
       "       [0.],\n",
       "       [0.]])"
      ]
     },
     "execution_count": 34,
     "metadata": {},
     "output_type": "execute_result"
    }
   ],
   "source": [
    "sepal_lengthTarget[0:3,:1]"
   ]
  },
  {
   "cell_type": "code",
   "execution_count": 35,
   "id": "45a85cca",
   "metadata": {},
   "outputs": [
    {
     "data": {
      "text/plain": [
       "array([[2. , 6.5],\n",
       "       [2. , 6.2]])"
      ]
     },
     "execution_count": 35,
     "metadata": {},
     "output_type": "execute_result"
    }
   ],
   "source": [
    "sepal_lengthTarget[-3:-1,0:]"
   ]
  },
  {
   "cell_type": "markdown",
   "id": "9c6923b9",
   "metadata": {},
   "source": [
    "Slicing is similar to generic python apart from the numpy indexing syntaxes"
   ]
  },
  {
   "cell_type": "markdown",
   "id": "11779abf",
   "metadata": {},
   "source": [
    "<b>arithmetic operations</b>"
   ]
  },
  {
   "cell_type": "code",
   "execution_count": 36,
   "id": "603b2c2b",
   "metadata": {},
   "outputs": [
    {
     "data": {
      "text/plain": [
       "array([3.5, 3. , 3.2, 3.1, 3.6])"
      ]
     },
     "execution_count": 36,
     "metadata": {},
     "output_type": "execute_result"
    }
   ],
   "source": [
    "sepal_width=np.array(df['sepal width (cm)'])\n",
    "sepal_width[:5]"
   ]
  },
  {
   "cell_type": "code",
   "execution_count": 37,
   "id": "4a840b59",
   "metadata": {},
   "outputs": [
    {
     "data": {
      "text/plain": [
       "array([8.6, 7.9, 7.9, 7.7, 8.6])"
      ]
     },
     "execution_count": 37,
     "metadata": {},
     "output_type": "execute_result"
    }
   ],
   "source": [
    "#Lets sepal length and sepal width\n",
    "sepal_width_sepal_length=sepal_length + sepal_width\n",
    "sepal_width_sepal_length[:5]"
   ]
  },
  {
   "cell_type": "markdown",
   "id": "91d29de7",
   "metadata": {},
   "source": [
    "So, numpy does element-wise addition as opposed to generic python. Isnt it amazing!!<br>\n",
    "\n"
   ]
  },
  {
   "cell_type": "code",
   "execution_count": 38,
   "id": "1664ac40",
   "metadata": {},
   "outputs": [
    {
     "data": {
      "text/plain": [
       "array([17.85, 14.7 , 15.04, 14.26, 18.  ])"
      ]
     },
     "execution_count": 38,
     "metadata": {},
     "output_type": "execute_result"
    }
   ],
   "source": [
    "sepal_area=sepal_length * sepal_width\n",
    "sepal_area[:5]"
   ]
  },
  {
   "cell_type": "markdown",
   "id": "b8bb7ac4",
   "metadata": {},
   "source": [
    " element-wise operations, do check them out."
   ]
  },
  {
   "cell_type": "markdown",
   "id": "7e214430",
   "metadata": {},
   "source": [
    "Lets see if we can do matrix multiplication"
   ]
  },
  {
   "cell_type": "code",
   "execution_count": 39,
   "id": "7ebb7951",
   "metadata": {},
   "outputs": [
    {
     "data": {
      "text/plain": [
       "(150, 2)"
      ]
     },
     "execution_count": 39,
     "metadata": {},
     "output_type": "execute_result"
    }
   ],
   "source": [
    "sepal_matrix=np.array([df['sepal length (cm)'],df['sepal width (cm)']])\n",
    "sepal_matrix=sepal_matrix.T      # transpose\n",
    "sepal_matrix.shape"
   ]
  },
  {
   "cell_type": "code",
   "execution_count": 40,
   "id": "ad7df611",
   "metadata": {},
   "outputs": [
    {
     "data": {
      "text/plain": [
       "(2, 150)"
      ]
     },
     "execution_count": 40,
     "metadata": {},
     "output_type": "execute_result"
    }
   ],
   "source": [
    "petal_matrix=np.array([df['petal length (cm)'],df['petal width (cm)']])\n",
    "#petal_matrix=petal_matrix.T      # transpose\n",
    "petal_matrix.shape"
   ]
  },
  {
   "cell_type": "code",
   "execution_count": 41,
   "id": "414f7478",
   "metadata": {},
   "outputs": [
    {
     "data": {
      "text/plain": [
       "array([[ 7.84,  7.84,  7.33, ..., 33.52, 35.59, 32.31],\n",
       "       [ 7.46,  7.46,  6.97, ..., 31.48, 33.36, 30.39],\n",
       "       [ 7.22,  7.22,  6.75, ..., 30.84, 32.74, 29.73],\n",
       "       ...,\n",
       "       [ 9.7 ,  9.7 ,  9.05, ..., 39.8 , 42.  , 38.55],\n",
       "       [ 9.36,  9.36,  8.74, ..., 39.04, 41.3 , 37.74],\n",
       "       [ 8.86,  8.86,  8.27, ..., 36.68, 38.76, 35.49]])"
      ]
     },
     "execution_count": 41,
     "metadata": {},
     "output_type": "execute_result"
    }
   ],
   "source": [
    "np.matmul(sepal_matrix,petal_matrix)"
   ]
  },
  {
   "cell_type": "code",
   "execution_count": 42,
   "id": "c5352a68",
   "metadata": {},
   "outputs": [
    {
     "data": {
      "text/plain": [
       "array([[ 7.84,  7.84,  7.33, ..., 33.52, 35.59, 32.31],\n",
       "       [ 7.46,  7.46,  6.97, ..., 31.48, 33.36, 30.39],\n",
       "       [ 7.22,  7.22,  6.75, ..., 30.84, 32.74, 29.73],\n",
       "       ...,\n",
       "       [ 9.7 ,  9.7 ,  9.05, ..., 39.8 , 42.  , 38.55],\n",
       "       [ 9.36,  9.36,  8.74, ..., 39.04, 41.3 , 37.74],\n",
       "       [ 8.86,  8.86,  8.27, ..., 36.68, 38.76, 35.49]])"
      ]
     },
     "execution_count": 42,
     "metadata": {},
     "output_type": "execute_result"
    }
   ],
   "source": [
    "sepal_matrix @ petal_matrix"
   ]
  },
  {
   "cell_type": "code",
   "execution_count": 43,
   "id": "4474245b",
   "metadata": {},
   "outputs": [
    {
     "data": {
      "text/plain": [
       "array([[ 7.84,  7.84,  7.33, ..., 33.52, 35.59, 32.31],\n",
       "       [ 7.46,  7.46,  6.97, ..., 31.48, 33.36, 30.39],\n",
       "       [ 7.22,  7.22,  6.75, ..., 30.84, 32.74, 29.73],\n",
       "       ...,\n",
       "       [ 9.7 ,  9.7 ,  9.05, ..., 39.8 , 42.  , 38.55],\n",
       "       [ 9.36,  9.36,  8.74, ..., 39.04, 41.3 , 37.74],\n",
       "       [ 8.86,  8.86,  8.27, ..., 36.68, 38.76, 35.49]])"
      ]
     },
     "execution_count": 43,
     "metadata": {},
     "output_type": "execute_result"
    }
   ],
   "source": [
    "np.dot(sepal_matrix,petal_matrix)"
   ]
  },
  {
   "cell_type": "code",
   "execution_count": 44,
   "id": "747528b0",
   "metadata": {},
   "outputs": [
    {
     "data": {
      "text/plain": [
       "2673.4300000000003"
      ]
     },
     "execution_count": 44,
     "metadata": {},
     "output_type": "execute_result"
    }
   ],
   "source": [
    "np.dot(sepal_length,sepal_width)"
   ]
  },
  {
   "cell_type": "markdown",
   "id": "ecef0ada",
   "metadata": {},
   "source": [
    "We can use all these different ways to matrix multiplication in numpy. We can use the <b>np.matmul</b>,<b>np.dot</b> or the <b>@ operator</b> to do it. <b>np.dot</b> is very versatile, if used for a 1D array or scalar it gives us the dot product for a 2D or a mtrix you will get a matrix multiplication"
   ]
  },
  {
   "cell_type": "markdown",
   "id": "fa07f53e",
   "metadata": {},
   "source": [
    "<b> Comparisions, Logical Operations "
   ]
  },
  {
   "cell_type": "code",
   "execution_count": 108,
   "id": "2b0f5aaf",
   "metadata": {},
   "outputs": [],
   "source": [
    "petal_length=np.array(df['petal length (cm)'])\n",
    "petal_width=np.array(df['petal width (cm)'])"
   ]
  },
  {
   "cell_type": "code",
   "execution_count": 46,
   "id": "49351dcb",
   "metadata": {},
   "outputs": [
    {
     "data": {
      "text/plain": [
       "array([False, False, False, False, False])"
      ]
     },
     "execution_count": 46,
     "metadata": {},
     "output_type": "execute_result"
    }
   ],
   "source": [
    "temp_length=np.array(sepal_length==petal_length)\n",
    "temp_length[:5]"
   ]
  },
  {
   "cell_type": "code",
   "execution_count": 47,
   "id": "128af346",
   "metadata": {},
   "outputs": [
    {
     "data": {
      "text/plain": [
       "array([False, False, False, False, False])"
      ]
     },
     "execution_count": 47,
     "metadata": {},
     "output_type": "execute_result"
    }
   ],
   "source": [
    "temp_width=np.array(sepal_width==petal_width)\n",
    "temp_width[:5]"
   ]
  },
  {
   "cell_type": "code",
   "execution_count": 48,
   "id": "28e5aacb",
   "metadata": {},
   "outputs": [
    {
     "data": {
      "text/plain": [
       "True"
      ]
     },
     "execution_count": 48,
     "metadata": {},
     "output_type": "execute_result"
    }
   ],
   "source": [
    "np.array_equal(temp_length,temp_width)"
   ]
  },
  {
   "cell_type": "markdown",
   "id": "c1515a3a",
   "metadata": {},
   "source": [
    "If the logical operators like <b>'==','>','<', etc</b> are used in conjuction with numpy arrays it will do element-wise comparisons. To check if the arrays are equal we can use the <b>np.array_equal</b> function"
   ]
  },
  {
   "cell_type": "markdown",
   "id": "5d684ef9",
   "metadata": {},
   "source": [
    "One very important thing we can do with this, we can use this to do boolean masking to get new arrays of of it or access our required elements. "
   ]
  },
  {
   "cell_type": "code",
   "execution_count": 49,
   "id": "1d4bebe7",
   "metadata": {},
   "outputs": [
    {
     "data": {
      "text/plain": [
       "array([6.6, 6.3, 6.1, 6.7, 6.9, 6.7, 6.1, 6.4, 6.1])"
      ]
     },
     "execution_count": 49,
     "metadata": {},
     "output_type": "execute_result"
    }
   ],
   "source": [
    "petal_length[petal_length>6]"
   ]
  },
  {
   "cell_type": "code",
   "execution_count": 50,
   "id": "6d683980",
   "metadata": {},
   "outputs": [
    {
     "data": {
      "text/plain": [
       "array([4.4, 4.1, 4.2])"
      ]
     },
     "execution_count": 50,
     "metadata": {},
     "output_type": "execute_result"
    }
   ],
   "source": [
    "sepal_width[sepal_width>4]"
   ]
  },
  {
   "cell_type": "code",
   "execution_count": 51,
   "id": "5394c9ea",
   "metadata": {},
   "outputs": [
    {
     "data": {
      "text/plain": [
       "array([2.3, 2.3, 2.4, 2.2, 2.2, 2.4, 2.4, 2.3, 2.3, 2.2])"
      ]
     },
     "execution_count": 51,
     "metadata": {},
     "output_type": "execute_result"
    }
   ],
   "source": [
    "sepal_width[(sepal_width>2) & (sepal_width<2.5)]"
   ]
  },
  {
   "cell_type": "markdown",
   "id": "491342b8",
   "metadata": {},
   "source": [
    "<b> Universal Functions</b>"
   ]
  },
  {
   "cell_type": "markdown",
   "id": "1d5ad530",
   "metadata": {},
   "source": [
    "We are already using some inherent numpy attributes already. Lets now turn our eye to a few common numpy functions which used a lot"
   ]
  },
  {
   "cell_type": "code",
   "execution_count": 52,
   "id": "18c2682f",
   "metadata": {},
   "outputs": [
    {
     "data": {
      "text/plain": [
       "876.5"
      ]
     },
     "execution_count": 52,
     "metadata": {},
     "output_type": "execute_result"
    }
   ],
   "source": [
    "np.sum(sepal_length)"
   ]
  },
  {
   "cell_type": "code",
   "execution_count": 53,
   "id": "a590c5d1",
   "metadata": {},
   "outputs": [
    {
     "data": {
      "text/plain": [
       "1335.1000000000001"
      ]
     },
     "execution_count": 53,
     "metadata": {},
     "output_type": "execute_result"
    }
   ],
   "source": [
    "np.sum(sepal_matrix)"
   ]
  },
  {
   "cell_type": "code",
   "execution_count": 54,
   "id": "bdebf2ca",
   "metadata": {},
   "outputs": [
    {
     "data": {
      "text/plain": [
       "array([876.5, 458.6])"
      ]
     },
     "execution_count": 54,
     "metadata": {},
     "output_type": "execute_result"
    }
   ],
   "source": [
    "np.sum(sepal_matrix,axis=0)"
   ]
  },
  {
   "cell_type": "code",
   "execution_count": 55,
   "id": "56e1b954",
   "metadata": {},
   "outputs": [
    {
     "data": {
      "text/plain": [
       "array([8.6, 7.9, 7.9, 7.7, 8.6])"
      ]
     },
     "execution_count": 55,
     "metadata": {},
     "output_type": "execute_result"
    }
   ],
   "source": [
    "np.sum(sepal_matrix,axis=1)[:5]"
   ]
  },
  {
   "cell_type": "code",
   "execution_count": 56,
   "id": "8ef3ec05",
   "metadata": {},
   "outputs": [
    {
     "data": {
      "text/plain": [
       "array([[5.1, 3.5],\n",
       "       [4.9, 3. ],\n",
       "       [4.7, 3.2]])"
      ]
     },
     "execution_count": 56,
     "metadata": {},
     "output_type": "execute_result"
    }
   ],
   "source": [
    "sepal_matrix[:3,:3]"
   ]
  },
  {
   "cell_type": "markdown",
   "id": "206e7fed",
   "metadata": {},
   "source": [
    "So, we use <b>np.sum</b> function to find summations or additions in a numpy array. For a 1D is pretty simple, just pass the array as a pramaeter and it will sum up all the elements and return it. But for 2D or higher dimension we can specify the axis, this gives us more flexibility, or else we can still get all elenment sum. The axis parameter will make sure, we do sum in any one axis only. Now, question arises what will be our axes values as we can use numpy for n-dimensional data."
   ]
  },
  {
   "attachments": {
    "numpy_axes_explanation.png": {
     "image/png": "[encoded data removed]"
    }
   },
   "cell_type": "markdown",
   "id": "6278028a",
   "metadata": {},
   "source": [
    "\n",
    "![numpy_axes_explanation.png](attachment:numpy_axes_explanation.png)"
   ]
  },
  {
   "cell_type": "markdown",
   "id": "4de8a3e3",
   "metadata": {},
   "source": [
    "<p>\n",
    "  In the context of NumPy, the concept of \"axis\" is pivotal and determines the direction along which operations are performed on arrays. For a 2D matrix, like our <code>sepal_matrix</code>, it has two axes: axis 0 and axis 1.\n",
    "</p>\n",
    "<ul>\n",
    "  <li>When we specify <code>axis=0</code>, operations are conducted in a row-wise fashion. In other words, the operation is applied to each column independently, resulting in a sum total for each column.</li>\n",
    "  <li>Conversely, when we use <code>axis=1</code>, operations are carried out in a column-wise manner. The operation is applied to each row independently, yielding a sum total for each row.</li>\n",
    "</ul>\n",
    "<p>\n",
    "  So, in essence, the choice of axis depends on the order of axes in the array. It's a numerical designation starting from 0 and incrementing for each subsequent axis. This distinction becomes particularly crucial when dealing with multi-dimensional arrays, guiding us on how to aggregate, reshape, or broadcast operations effectively.\n",
    "</p>\n",
    "\n"
   ]
  },
  {
   "cell_type": "code",
   "execution_count": 57,
   "id": "aba28dcf",
   "metadata": {},
   "outputs": [
    {
     "data": {
      "text/plain": [
       "array([5.84333333, 3.05733333])"
      ]
     },
     "execution_count": 57,
     "metadata": {},
     "output_type": "execute_result"
    }
   ],
   "source": [
    "np.mean(sepal_matrix,axis=0)"
   ]
  },
  {
   "cell_type": "code",
   "execution_count": 58,
   "id": "e7b16c1a",
   "metadata": {},
   "outputs": [
    {
     "data": {
      "text/plain": [
       "array([8.6, 7.9, 7.9, 7.7, 8.6])"
      ]
     },
     "execution_count": 58,
     "metadata": {},
     "output_type": "execute_result"
    }
   ],
   "source": [
    "np.sum(sepal_matrix,axis=1)[:5]"
   ]
  },
  {
   "cell_type": "code",
   "execution_count": 59,
   "id": "438bcda4",
   "metadata": {},
   "outputs": [
    {
     "data": {
      "text/plain": [
       "2.0"
      ]
     },
     "execution_count": 59,
     "metadata": {},
     "output_type": "execute_result"
    }
   ],
   "source": [
    "np.min(sepal_matrix)"
   ]
  },
  {
   "cell_type": "markdown",
   "id": "043b8152",
   "metadata": {},
   "source": [
    "Same way you can define the axis parameter to do with row-wise or column-wise calculation"
   ]
  },
  {
   "cell_type": "markdown",
   "id": "0891a41e",
   "metadata": {},
   "source": [
    "Lets see the arg functions "
   ]
  },
  {
   "cell_type": "code",
   "execution_count": 60,
   "id": "318c0470",
   "metadata": {},
   "outputs": [
    {
     "data": {
      "text/plain": [
       "13"
      ]
     },
     "execution_count": 60,
     "metadata": {},
     "output_type": "execute_result"
    }
   ],
   "source": [
    "np.argmin(sepal_length)"
   ]
  },
  {
   "cell_type": "code",
   "execution_count": 61,
   "id": "4568b311",
   "metadata": {},
   "outputs": [
    {
     "data": {
      "text/plain": [
       "4.3"
      ]
     },
     "execution_count": 61,
     "metadata": {},
     "output_type": "execute_result"
    }
   ],
   "source": [
    "sepal_length[13]"
   ]
  },
  {
   "cell_type": "code",
   "execution_count": 62,
   "id": "7666c22e",
   "metadata": {},
   "outputs": [
    {
     "data": {
      "text/plain": [
       "121"
      ]
     },
     "execution_count": 62,
     "metadata": {},
     "output_type": "execute_result"
    }
   ],
   "source": [
    "np.argmin(sepal_matrix)"
   ]
  },
  {
   "cell_type": "code",
   "execution_count": 63,
   "id": "e4568c99",
   "metadata": {},
   "outputs": [
    {
     "data": {
      "text/plain": [
       "(60, 1)"
      ]
     },
     "execution_count": 63,
     "metadata": {},
     "output_type": "execute_result"
    }
   ],
   "source": [
    "overall_min_index = np.unravel_index(np.argmin(sepal_matrix), sepal_matrix.shape)\n",
    "overall_min_index"
   ]
  },
  {
   "cell_type": "code",
   "execution_count": 64,
   "id": "de03fbbb",
   "metadata": {},
   "outputs": [
    {
     "data": {
      "text/plain": [
       "2.0"
      ]
     },
     "execution_count": 64,
     "metadata": {},
     "output_type": "execute_result"
    }
   ],
   "source": [
    "sepal_matrix[60,1]"
   ]
  },
  {
   "cell_type": "markdown",
   "id": "75670b4e",
   "metadata": {},
   "source": [
    "\n",
    "  <p>The <code>np.argmin</code> function is used to find the index of the minimum value in an array. In the case of a 1D array like <code>sepal_length</code>, it returns the index of the first occurrence of the minimum value.</p>\n",
    "\n",
    "  <p>For a 2D array such as <code>sepal_matrix</code>, <code>np.argmin</code> returns a single flattened index corresponding to the minimum value in the entire array.</p>\n",
    "\n",
    "  <p>However, to interpret this flattened index correctly in the context of the original 2D shape, we use <code>np.unravel_index</code>. This function takes the flattened index and the shape of the array and returns a tuple of indices. This tuple represents the position of the minimum value in the original shape of the 2D array.</p>\n",
    "\n",
    "  <p>In summary, <code>np.unravel_index</code> is crucial for converting the flattened index obtained from <code>np.argmin</code> back into the corresponding indices in the original shape of the array, especially when dealing with multidimensional arrays.</p>\n",
    "\n"
   ]
  },
  {
   "cell_type": "markdown",
   "id": "ed6d1068",
   "metadata": {},
   "source": [
    "Same way you can define the axis parameter to do with row-wise or column-wise calculation"
   ]
  },
  {
   "cell_type": "code",
   "execution_count": 74,
   "id": "ce723d92",
   "metadata": {},
   "outputs": [
    {
     "data": {
      "text/plain": [
       "array([[ 0,  0],\n",
       "       [ 5,  0],\n",
       "       [10,  0],\n",
       "       [14,  0],\n",
       "       [15,  0]], dtype=int64)"
      ]
     },
     "execution_count": 74,
     "metadata": {},
     "output_type": "execute_result"
    }
   ],
   "source": [
    "np.argwhere(sepal_matrix>5)[:5]"
   ]
  },
  {
   "cell_type": "markdown",
   "id": "6d3af943",
   "metadata": {},
   "source": [
    "\n",
    "\n",
    "  <p><code>np.argmin(sepal_matrix)</code> returns the flattened index of the minimum value in the 2D array <code>sepal_matrix</code>. It does not provide the row and column indices separately.</p>\n",
    "\n",
    "  <p><code>np.argwhere(sepal_matrix > 5)</code> returns the indices of elements greater than 5 in <code>sepal_matrix</code>. It provides both row and column indices, giving a more detailed location of the elements that satisfy the condition. So each function has different properties so do play with them a bit more to dive into these nuances</p>\n"
   ]
  },
  {
   "cell_type": "markdown",
   "id": "e7a1b67b",
   "metadata": {},
   "source": [
    "<b>sorting</b>"
   ]
  },
  {
   "cell_type": "code",
   "execution_count": 80,
   "id": "1d7ac7dc",
   "metadata": {},
   "outputs": [
    {
     "data": {
      "text/plain": [
       "array([[3.5, 5.1],\n",
       "       [3. , 4.9],\n",
       "       [3.2, 4.7],\n",
       "       [3.1, 4.6],\n",
       "       [3.6, 5. ]])"
      ]
     },
     "execution_count": 80,
     "metadata": {},
     "output_type": "execute_result"
    }
   ],
   "source": [
    "sepal_matrix.sort()\n",
    "sepal_matrix[:5]"
   ]
  },
  {
   "cell_type": "code",
   "execution_count": 76,
   "id": "1e45d737",
   "metadata": {
    "scrolled": false
   },
   "outputs": [
    {
     "data": {
      "text/plain": [
       "array([[3.5, 5.1],\n",
       "       [3. , 4.9],\n",
       "       [3.2, 4.7],\n",
       "       [3.1, 4.6],\n",
       "       [3.6, 5. ]])"
      ]
     },
     "execution_count": 76,
     "metadata": {},
     "output_type": "execute_result"
    }
   ],
   "source": [
    "np.sort(sepal_matrix)[:5]"
   ]
  },
  {
   "cell_type": "code",
   "execution_count": 81,
   "id": "28cc8178",
   "metadata": {},
   "outputs": [
    {
     "data": {
      "text/plain": [
       "array([[0, 1],\n",
       "       [0, 1],\n",
       "       [0, 1],\n",
       "       [0, 1],\n",
       "       [0, 1]], dtype=int64)"
      ]
     },
     "execution_count": 81,
     "metadata": {},
     "output_type": "execute_result"
    }
   ],
   "source": [
    "np.argsort(sepal_matrix)[:5]"
   ]
  },
  {
   "cell_type": "markdown",
   "id": "e8e25201",
   "metadata": {},
   "source": [
    "\n",
    "\n",
    "  <p><code>sepal_matrix.sort()</code> sorts the original array <code>sepal_matrix</code> in-place. It does not return anything but directly modifies the array.</p>\n",
    "\n",
    "  <p><code>np.sort(sepal_matrix)</code> returns a sorted copy of <code>sepal_matrix</code> along the last axis. The original array remains unchanged.</p>\n",
    "\n",
    "  <p><code>np.argsort(sepal_matrix)</code> returns the indices that would sort the array <code>sepal_matrix</code>. It provides the sorted indices along the last axis.</p>\n",
    "\n"
   ]
  },
  {
   "cell_type": "markdown",
   "id": "e534edd1",
   "metadata": {},
   "source": [
    "Lets look at some logical functions"
   ]
  },
  {
   "cell_type": "code",
   "execution_count": 67,
   "id": "0b06989d",
   "metadata": {},
   "outputs": [
    {
     "data": {
      "text/plain": [
       "True"
      ]
     },
     "execution_count": 67,
     "metadata": {},
     "output_type": "execute_result"
    }
   ],
   "source": [
    "np.any(sepal_length>sepal_width)"
   ]
  },
  {
   "cell_type": "code",
   "execution_count": 71,
   "id": "c984c5bf",
   "metadata": {},
   "outputs": [
    {
     "data": {
      "text/plain": [
       "False"
      ]
     },
     "execution_count": 71,
     "metadata": {},
     "output_type": "execute_result"
    }
   ],
   "source": [
    "np.all(sepal_length<sepal_width)"
   ]
  },
  {
   "cell_type": "code",
   "execution_count": 69,
   "id": "b6b397b3",
   "metadata": {},
   "outputs": [
    {
     "data": {
      "text/plain": [
       "array([1, 0, 0, 0, 0])"
      ]
     },
     "execution_count": 69,
     "metadata": {},
     "output_type": "execute_result"
    }
   ],
   "source": [
    "np.where(sepal_length>5,1,0)[:5]"
   ]
  },
  {
   "cell_type": "markdown",
   "id": "b8f6ed32",
   "metadata": {},
   "source": [
    "\n",
    "\n",
    "  <p><code>np.any(sepal_length > sepal_width)</code> checks if there is any element in <code>sepal_length</code> greater than the corresponding element in <code>sepal_width</code>.</p>\n",
    "\n",
    "  <p><code>np.all(sepal_length < sepal_width)</code> checks if all elements in <code>sepal_length</code> are less than the corresponding elements in <code>sepal_width</code>.</p>\n",
    "\n",
    "  <p><code>np.where(sepal_length > 5, 1, 0)[:5]</code> creates a new array where elements greater than 5 are replaced with 1 and others with 0. The <code>[:5]</code> part displays the first 5 elements of the resulting array.</p>\n",
    "\n"
   ]
  },
  {
   "cell_type": "markdown",
   "id": "47b1c763",
   "metadata": {},
   "source": [
    "<b>Array Manipulation - Reshaping,merging and Splitting</b>"
   ]
  },
  {
   "cell_type": "code",
   "execution_count": 82,
   "id": "8dad3031",
   "metadata": {},
   "outputs": [
    {
     "data": {
      "text/plain": [
       "array([[5.1, 4.9, 4.7],\n",
       "       [4.6, 5. , 5.4],\n",
       "       [4.6, 5. , 4.4]])"
      ]
     },
     "execution_count": 82,
     "metadata": {},
     "output_type": "execute_result"
    }
   ],
   "source": [
    "temp=sepal_length[:9]\n",
    "temp.reshape(3,3)"
   ]
  },
  {
   "cell_type": "code",
   "execution_count": 84,
   "id": "6e0c345c",
   "metadata": {},
   "outputs": [
    {
     "data": {
      "text/plain": [
       "array([5.1, 4.9, 4.7, 4.6, 5. , 5.4, 4.6, 5. , 4.4])"
      ]
     },
     "execution_count": 84,
     "metadata": {},
     "output_type": "execute_result"
    }
   ],
   "source": [
    "temp.flatten()"
   ]
  },
  {
   "cell_type": "code",
   "execution_count": 85,
   "id": "fd365b03",
   "metadata": {},
   "outputs": [
    {
     "data": {
      "text/plain": [
       "array([5.1, 4.9, 4.7, 4.6, 5. , 5.4, 4.6, 5. , 4.4])"
      ]
     },
     "execution_count": 85,
     "metadata": {},
     "output_type": "execute_result"
    }
   ],
   "source": [
    "temp.ravel()"
   ]
  },
  {
   "cell_type": "code",
   "execution_count": 86,
   "id": "599d90e4",
   "metadata": {},
   "outputs": [
    {
     "data": {
      "text/plain": [
       "array([5.1, 4.9, 4.7, 4.6, 5. , 5.4, 4.6, 5. , 4.4])"
      ]
     },
     "execution_count": 86,
     "metadata": {},
     "output_type": "execute_result"
    }
   ],
   "source": [
    "temp.T"
   ]
  },
  {
   "cell_type": "markdown",
   "id": "1dba151d",
   "metadata": {},
   "source": [
    "\n",
    "\n",
    "  <p><code>temp.reshape(3,3)</code> reshapes the 1D array <code>temp</code> into a 2D array with a shape of (3, 3).</p>\n",
    "\n",
    "  <p><code>temp.flatten()</code> returns a flattened 1D copy of the <code>temp</code> array. It creates a new array with the same data.</p>\n",
    "\n",
    "  <p><code>temp.ravel()</code> also returns a flattened 1D copy of the <code>temp</code> array. It may return a view of the original array or a new array depending on the underlying data.</p>\n",
    "\n",
    "  <p><code>temp.T</code> returns the transpose of the <code>temp</code> array. For a 1D array, the transpose doesn't change the array.</p>\n"
   ]
  },
  {
   "cell_type": "code",
   "execution_count": 99,
   "id": "2ef3f6dc",
   "metadata": {
    "scrolled": true
   },
   "outputs": [
    {
     "data": {
      "text/plain": [
       "[array([[3.5, 5.1]]),\n",
       " array([[3. , 4.9],\n",
       "        [3.2, 4.7]]),\n",
       " array([[3.1, 4.6],\n",
       "        [3.6, 5. ]])]"
      ]
     },
     "execution_count": 99,
     "metadata": {},
     "output_type": "execute_result"
    }
   ],
   "source": [
    "split_arrays=np.split(sepal_matrix,indices_or_sections = [1, 3])\n",
    "[arr[:2] for arr in split_arrays]"
   ]
  },
  {
   "cell_type": "code",
   "execution_count": 103,
   "id": "8cb3784f",
   "metadata": {},
   "outputs": [
    {
     "data": {
      "text/plain": [
       "[array([[3.5, 5.1],\n",
       "        [3. , 4.9]]),\n",
       " array([[3.2, 7. ],\n",
       "        [3.2, 6.4]]),\n",
       " array([[3.3, 6.3],\n",
       "        [2.7, 5.8]])]"
      ]
     },
     "execution_count": 103,
     "metadata": {},
     "output_type": "execute_result"
    }
   ],
   "source": [
    "split_arrays=np.split(sepal_matrix,3)\n",
    "[arr[:2] for arr in split_arrays]"
   ]
  },
  {
   "cell_type": "code",
   "execution_count": 105,
   "id": "1f9fcddb",
   "metadata": {},
   "outputs": [
    {
     "data": {
      "text/plain": [
       "[array([[3.5],\n",
       "        [3. ]]),\n",
       " array([[5.1],\n",
       "        [4.9]]),\n",
       " array([], shape=(2, 0), dtype=float64)]"
      ]
     },
     "execution_count": 105,
     "metadata": {},
     "output_type": "execute_result"
    }
   ],
   "source": [
    "split_arrays=np.hsplit(sepal_matrix, [1, 2])\n",
    "[arr[:2] for arr in split_arrays]"
   ]
  },
  {
   "cell_type": "code",
   "execution_count": 106,
   "id": "589176e6",
   "metadata": {},
   "outputs": [
    {
     "data": {
      "text/plain": [
       "[array([[3.5, 5.1],\n",
       "        [3. , 4.9]]),\n",
       " array([[3. , 6.6],\n",
       "        [2.8, 6.8]])]"
      ]
     },
     "execution_count": 106,
     "metadata": {},
     "output_type": "execute_result"
    }
   ],
   "source": [
    "split_arrays=np.vsplit(sepal_matrix, 2)\n",
    "[arr[:2] for arr in split_arrays]"
   ]
  },
  {
   "cell_type": "markdown",
   "id": "22bd1eec",
   "metadata": {},
   "source": [
    "\n",
    "\n",
    "  <p><code>np.split(sepal_matrix, indices_or_sections=[1, 3])</code> splits the <code>sepal_matrix</code> array into three parts along the horizontal axis (column-wise) at the specified indices [1, 3]. The result is a list of arrays.</p>\n",
    "\n",
    "  <p><code>np.split(sepal_matrix, 3)</code> splits the <code>sepal_matrix</code> array into 3 equal parts along the horizontal axis (column-wise). The result is a list of arrays.</p>\n",
    "\n",
    "  <p><code>np.hsplit(sepal_matrix, [1, 2])</code> horizontally splits the <code>sepal_matrix</code> array at the specified indices [1, 2]. The result is a list of arrays representing the split along the columns.</p>\n",
    "\n",
    "  <p><code>np.vsplit(sepal_matrix, 2)</code> vertically splits the <code>sepal_matrix</code> array into two equal parts along the vertical axis (row-wise). The result is a list of arrays representing the split along the rows.</p>\n",
    "  \n",
    "\n",
    "\n",
    "\n",
    "  <p>The list comprehension <code>[arr[:2] for arr in split_arrays]</code> iterates over each array in the <code>split_arrays</code> list and extracts the first two elements from each array. The result is a list containing the first two elements of each split array.I did it to save notebook real-estate nothing much otherwise results were too huge to display.</p>\n",
    "  \n",
    "  \n"
   ]
  },
  {
   "cell_type": "code",
   "execution_count": 111,
   "id": "a8233e64",
   "metadata": {},
   "outputs": [
    {
     "data": {
      "text/plain": [
       "array([5.1, 4.9, 4.7, 4.6, 5. , 1.4, 1.4, 1.3, 1.5, 1.4])"
      ]
     },
     "execution_count": 111,
     "metadata": {},
     "output_type": "execute_result"
    }
   ],
   "source": [
    "temp_sepal=sepal_length[:5]\n",
    "temp_petal=petal_length[:5]\n",
    "np.concatenate((temp_sepal,temp_petal))"
   ]
  },
  {
   "cell_type": "code",
   "execution_count": 113,
   "id": "d584590e",
   "metadata": {},
   "outputs": [
    {
     "data": {
      "text/plain": [
       "array([5.1, 4.9, 4.7, 4.6, 5. , 1.4, 1.4, 1.3, 1.5, 1.4])"
      ]
     },
     "execution_count": 113,
     "metadata": {},
     "output_type": "execute_result"
    }
   ],
   "source": [
    "temp_sepal_petal=np.hstack((temp_sepal,temp_petal))\n",
    "temp_sepal_petal"
   ]
  },
  {
   "cell_type": "code",
   "execution_count": 115,
   "id": "3cb6e8cd",
   "metadata": {},
   "outputs": [
    {
     "data": {
      "text/plain": [
       "array([[5.1, 4.9, 4.7, 4.6, 5. ],\n",
       "       [1.4, 1.4, 1.3, 1.5, 1.4]])"
      ]
     },
     "execution_count": 115,
     "metadata": {},
     "output_type": "execute_result"
    }
   ],
   "source": [
    "temp_sepal_petal2=np.vstack((temp_sepal,temp_petal))\n",
    "temp_sepal_petal2"
   ]
  },
  {
   "cell_type": "markdown",
   "id": "3936a895",
   "metadata": {},
   "source": [
    "\n",
    "\n",
    "  <p>The arrays <code>temp_sepal</code> and <code>temp_petal</code> represent subsets of sepal lengths and petal lengths, respectively.</p>\n",
    "  \n",
    "  <p><code>np.concatenate((temp_sepal, temp_petal))</code> concatenates the two arrays along the default axis (axis=0) resulting in a flattened array.</p>\n",
    "  \n",
    "  <p><code>temp_sepal_petal = np.hstack((temp_sepal, temp_petal))</code> horizontally stacks the arrays, creating a 1D array with interleaved sepal and petal lengths.</p>\n",
    "  \n",
    "  <p><code>temp_sepal_petal2 = np.vstack((temp_sepal, temp_petal))</code> vertically stacks the arrays, creating a 2D array with sepal lengths in the first row and petal lengths in the second row.</p>\n"
   ]
  },
  {
   "cell_type": "markdown",
   "id": "d17018dc",
   "metadata": {},
   "source": [
    "The stacking is very important to understand <b>broadcasting</b> in numpy which a very important feature of it"
   ]
  },
  {
   "cell_type": "code",
   "execution_count": 117,
   "id": "a52c9a93",
   "metadata": {},
   "outputs": [
    {
     "name": "stdout",
     "output_type": "stream",
     "text": [
      "[[6.5 6.5 6.4 6.6 6.5]\n",
      " [6.3 6.3 6.2 6.4 6.3]\n",
      " [6.1 6.1 6.  6.2 6.1]\n",
      " [6.  6.  5.9 6.1 6. ]\n",
      " [6.4 6.4 6.3 6.5 6.4]]\n"
     ]
    }
   ],
   "source": [
    "\n",
    "temp_sepal = sepal_length[:5]\n",
    "temp_petal = petal_length[:5]\n",
    "\n",
    "result_broadcast = temp_sepal[:, np.newaxis] + temp_petal\n",
    "\n",
    "print(result_broadcast)\n"
   ]
  },
  {
   "cell_type": "markdown",
   "id": "0b252d75",
   "metadata": {},
   "source": [
    "\n",
    "\n",
    "<p>Broadcasting is a powerful feature in NumPy that enables operations on arrays with different shapes without explicitly reshaping them. </p>\n",
    "\n",
    "<ul>\n",
    "  <li>\n",
    "    <strong>Definition:</strong>\n",
    "    <p>Broadcasting allows NumPy to work with arrays of different shapes during arithmetic operations.</p>\n",
    "  </li>\n",
    "\n",
    "  <li>\n",
    "    <strong>Rules:</strong>\n",
    "    <ul>\n",
    "      <li>If two dimensions are equal or one of them is 1, these arrays are compatible for broadcasting.</li>\n",
    "      <li>The size of the resulting array is the maximum size along each dimension of the input arrays.</li>\n",
    "    </ul>\n",
    "  </li>\n",
    "\n",
    "  <li>\n",
    "    <strong>Example:</strong>\n",
    "    <p>When performing operations between arrays with different shapes, NumPy automatically adjusts their sizes to make the operation meaningful. For instance, adding a scalar to a 1D array or adding a column vector to a 2D array.</p>\n",
    "  </li>\n",
    "</ul>\n",
    "\n",
    "<p>Broadcasting simplifies syntax, making it more convenient to perform element-wise operations on arrays of different shapes. It's a crucial concept for efficient array computations in NumPy.</p>\n"
   ]
  }
 ],
 "metadata": {
  "kernelspec": {
   "display_name": "Python 3 (ipykernel)",
   "language": "python",
   "name": "python3"
  },
  "language_info": {
   "codemirror_mode": {
    "name": "ipython",
    "version": 3
   },
   "file_extension": ".py",
   "mimetype": "text/x-python",
   "name": "python",
   "nbconvert_exporter": "python",
   "pygments_lexer": "ipython3",
   "version": "3.9.13"
  }
 },
 "nbformat": 4,
 "nbformat_minor": 5
}
